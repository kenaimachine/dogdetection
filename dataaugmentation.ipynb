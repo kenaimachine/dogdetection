{
 "cells": [
  {
   "cell_type": "code",
   "execution_count": 7,
   "metadata": {},
   "outputs": [
    {
     "name": "stdout",
     "output_type": "stream",
     "text": [
      "Using matplotlib backend: MacOSX\n"
     ]
    }
   ],
   "source": [
    "# This is to rename the files into running number for easier keeping track.\n",
    "\n",
    "import os\n",
    "%matplotlib auto\n",
    "from pathlib import Path\n",
    "x=0\n",
    "photo_dir=Path.cwd() /'dogpic' /'dataaugmentation/'\n",
    "for i in os.listdir(photo_dir):\n",
    "    my_dest='dogbatch'+str(x)+'.jpg'\n",
    "    my_source=str(photo_dir)+'/'+i\n",
    "    my_dest=str(photo_dir)+'/'+my_dest\n",
    "    os.rename(my_source,my_dest)\n",
    "    x+=1"
   ]
  },
  {
   "cell_type": "code",
   "execution_count": 6,
   "metadata": {},
   "outputs": [
    {
     "name": "stdout",
     "output_type": "stream",
     "text": [
      "/Users/macbookpro/Downloads/dogpic/dataaugmentation/d18.jpg\n",
      "/Users/macbookpro/Downloads/dogpic/dataaugmentation/d8.jpg\n"
     ]
    },
    {
     "name": "stderr",
     "output_type": "stream",
     "text": [
      "/Users/macbookpro/opt/anaconda3/lib/python3.7/site-packages/imgaug/imgaug.py:2119: RuntimeWarning: More than 20 figures have been opened. Figures created through the pyplot interface (`matplotlib.pyplot.figure`) are retained until explicitly closed and may consume too much memory. (To control this warning, see the rcParam `figure.max_open_warning`).\n",
      "  fig, ax = plt.subplots(figsize=(w, h), dpi=dpi)\n"
     ]
    },
    {
     "name": "stdout",
     "output_type": "stream",
     "text": [
      "/Users/macbookpro/Downloads/dogpic/dataaugmentation/d10.jpg\n"
     ]
    }
   ],
   "source": [
    "#This is to utilize the imgaug libraries to augment the images\n",
    "#imgaug is a library for image augmentaion in machine learning experiments. It supports a wide range of techniques.\n",
    "\n",
    "#To download the imgaug library: https://imgaug.readthedocs.io/en/latest/source/installation.html\n",
    "\n",
    "\n",
    "import imageio\n",
    "import numpy as np\n",
    "import imgaug as ia\n",
    "import imgaug.augmenters as iaa\n",
    "import cv2\n",
    "\n",
    "\n",
    "from pathlib import Path\n",
    "import os\n",
    "\n",
    "ia.seed(1)\n",
    "\n",
    "\n",
    "photo_dir=Path.cwd() /'dogpic' /'dataaugmentation/'\n",
    "#print(photo_dir)\n",
    "#imageio.imread('/Users/macbookpro/Downloads/dogpic/dataaugmentation/dogbatch0.jpg')\n",
    "\n",
    "\n",
    "#The sequence of image augmentation is randomly selected.\n",
    "#Images do not neccessarily undergo all augmentation steps. \n",
    "#Augmentation sequence applies affine transformations to images, flips some images horizontally,\n",
    "#adds abit of blur and noise and also changes the contrast and brightness. \n",
    "\n",
    "seq = iaa.Sequential([\n",
    "    iaa.Fliplr(0.5), # horizontal flips\n",
    "    \n",
    "    ### cropping is not done here but later in the pipeline.config. \n",
    "    \n",
    "    #iaa.Crop(percent=(0, 0.1)), # random crops\n",
    "    # Small gaussian blur with random sigma between 0 and 0.5.\n",
    "    # But we only blur about 50% of all images.\n",
    "    \n",
    "    iaa.Sometimes(\n",
    "        0.5,\n",
    "        iaa.GaussianBlur(sigma=(0, 0.01))\n",
    "    ),\n",
    "    \n",
    "    # Strengthen or weaken the contrast in each image.\n",
    "    iaa.LinearContrast((0.75, 1.5)),\n",
    "    # Add gaussian noise.\n",
    "    # For 50% of all images, we sample the noise once per pixel.\n",
    "    # For the other 50% of all images, we sample the noise per pixel AND\n",
    "    # channel. This can change the color (not only brightness) of the\n",
    "    # pixels.\n",
    "    \n",
    "    iaa.AdditiveGaussianNoise(loc=0, scale=(0.0, 0.1*255), per_channel=0.5),\n",
    "    # Make some images brighter and some darker.\n",
    "    # In 20% of all cases, we sample the multiplier once per channel,\n",
    "    # which can end up changing the color of the images.\n",
    "    \n",
    "    iaa.Multiply((0.8, 1.2), per_channel=0.2),\n",
    "    # Apply affine transformations to each image.\n",
    "    # Scale/zoom them, translate/move them, rotate them and shear them.\n",
    "    \n",
    "    iaa.Affine(rotate=(-25, 25)),\n",
    "#     iaa.Affine(translate_percent={\"x\": (-0.1, 0.1), \"y\": (-0.1, 0.1)})\n",
    "    \n",
    "    iaa.Affine(\n",
    "       scale={\"x\": (0.8, 1.2), \"y\": (0.8, 1.2)},\n",
    "       translate_percent={\"x\": (-0.1, 0.1), \"y\": (-0.1, 0.1)},\n",
    "       # rotate=(-25, 25),\n",
    "        shear=(-8, 8),\n",
    "        mode='symmetric'\n",
    "    )\n",
    "], random_order=True) # apply augmenters in random order\n",
    "\n",
    "for i in os.listdir(photo_dir):\n",
    "    i=Path.cwd() /'dogpic' /'dataaugmentation/'/i\n",
    "    \n",
    "    try:\n",
    "        image=imageio.imread(i,pilmode='RGB')\n",
    "        #ia.imshow(image)\n",
    "        images_aug=seq(image=image)\n",
    "        #images_aug=imageio.imread(images_aug,pilmode='RGB')\n",
    "        #ia.imshow(images_aug)\n",
    "        imageio.imwrite(i,images_aug)\n",
    "    except:\n",
    "        print(i)\n",
    "\n"
   ]
  },
  {
   "cell_type": "code",
   "execution_count": null,
   "metadata": {},
   "outputs": [],
   "source": []
  }
 ],
 "metadata": {
  "kernelspec": {
   "display_name": "Python 3",
   "language": "python",
   "name": "python3"
  },
  "language_info": {
   "codemirror_mode": {
    "name": "ipython",
    "version": 3
   },
   "file_extension": ".py",
   "mimetype": "text/x-python",
   "name": "python",
   "nbconvert_exporter": "python",
   "pygments_lexer": "ipython3",
   "version": "3.7.7"
  }
 },
 "nbformat": 4,
 "nbformat_minor": 4
}
